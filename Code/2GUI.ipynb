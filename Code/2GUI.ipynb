{
 "cells": [
  {
   "cell_type": "markdown",
   "metadata": {},
   "source": [
    "## PART D: Graphical User Interface  (GUI)"
   ]
  },
  {
   "cell_type": "markdown",
   "metadata": {},
   "source": [
    "- In the background image section, please make sure the png image is on the right local path.\n",
    "- The flask must be running\n",
    "Otherwise, error would occur."
   ]
  },
  {
   "cell_type": "code",
   "execution_count": 1,
   "metadata": {},
   "outputs": [
    {
     "data": {
      "text/plain": [
       "'/Users/shayshay/Documents/54 Project File'"
      ]
     },
     "execution_count": 1,
     "metadata": {},
     "output_type": "execute_result"
    }
   ],
   "source": [
    "import os\n",
    "os.getcwd()"
   ]
  },
  {
   "cell_type": "markdown",
   "metadata": {},
   "source": [
    "A User Interface Window will open."
   ]
  },
  {
   "cell_type": "code",
   "execution_count": 2,
   "metadata": {},
   "outputs": [],
   "source": [
    "#from ast import Return\n",
    "import tkinter as tk\n",
    "from webbrowser import get\n",
    "import requests\n",
    "import json\n",
    "import pandas as pd\n",
    "HEIGHT = 600\n",
    "WIDTH = 1000\n",
    "\n",
    "#format\n",
    "def format_response(df):\n",
    "    try:\n",
    "        GDP = df['Value'][0]\n",
    "        EXP = df['Value'][1]\n",
    "        CAPITA = df['Value'][2]\n",
    "        PERSON = df['Value'][3]\n",
    "        SHARE = df['Value'][4]\n",
    "        LARBOR = df['Value'][5]\n",
    "        final_string = 'GDP Share of Military Expenditure (percent): %s \\nTotal Military Expenditure (in constant 2019 US$): %s \\nMilitary Spending per Capita (in constant 2019 US$): %s \\nArmed Forces Personnel: %s \\nArmed Forces Share Population (percent): %s \\nArmed Forces Personnel of Total Labor Force (percent): %s' % (GDP, EXP, CAPITA, PERSON, SHARE, LARBOR)\n",
    "    except:\n",
    "        final_string = 'There was a problem retrieving the search result. The information is not found in the database, please RE-ENTER correct year and country.'\n",
    "\n",
    "    return final_string\n",
    "\n",
    "\n",
    "#GET DATA\n",
    "#country = 'China'\n",
    "#year = 2018\n",
    "\n",
    "def get_news(country, year):\n",
    "    url = \"http://localhost:5001/square\"\n",
    "    param = '/'+country+'_'+str(year)\n",
    "    response = requests.get(url+param)\n",
    "    content = response.json()\n",
    "    df=pd.DataFrame()\n",
    "    for i in content:\n",
    "        row=pd.DataFrame.from_dict(i,orient='index',columns=['Value'])\n",
    "        df=pd.concat([df,row],axis=0)\n",
    "    label['text'] = format_response(df)\n",
    "\n",
    "#GUI\n",
    "root = tk.Tk()\n",
    "root.title(\"Military Spending Across the Globe (1990-2018)\")\n",
    "\n",
    "#CANVAS\n",
    "canvas = tk.Canvas(root, width=WIDTH, height=HEIGHT)\n",
    "canvas.pack()\n",
    "\n",
    "#background image\n",
    "background_image = tk.PhotoImage(file='/Users/shayshay/Documents/54 Project File/image6.png')\n",
    "\"\"\"make sure the path of image is correct\"\"\"\n",
    "background_label = tk.Label(root, image=background_image)\n",
    "background_label.place(x=0, y=0, relwidth=1, relheight=1)\n",
    "\n",
    "#MID Frame\n",
    "frame = tk.Frame(root, bg='#f2f2f2', bd=5)\n",
    "frame.place(relx=0.5, rely=0.14, relwidth=0.9, relheight=0.1, anchor='n')\n",
    "\n",
    "#TOP Frame\n",
    "frame_txt = tk.Frame(root, bg='#f2f2f2', bd=5)\n",
    "frame_txt.place(relx=0.5, rely=0.1, relwidth=0.9, relheight=0.04, anchor='n')\n",
    "\n",
    "entry_label_1 = tk.Label(frame_txt,bg='#f2f2f2', text=\"Country\",fg='#808080', font=(\"Helvetica\", 15, 'bold'), bd=0)\n",
    "entry_label_1.place(relx=0.04, rely=0.01, anchor='n')\n",
    "\n",
    "entry_label_2 = tk.Label(frame_txt,bg='#f2f2f2', text=\"Year\", fg='#808080',font=(\"Helvetica\", 15, 'bold'), bd=0)\n",
    "entry_label_2.place(relx=0.37,rely=0.01, anchor='n')\n",
    "\n",
    "#Entry\n",
    "entry_country = tk.Entry(frame, font=(\"Helvetica\", 20), bg='#ffffff', bd=0, fg='#595959')\n",
    "entry_country.place(relwidth=0.33, relheight=1)\n",
    "\n",
    "entry_year = tk.Entry(frame, font=(\"Helvetica\", 20), bg='#ffffff', bd=0, fg='#595959',relief='sunken')\n",
    "entry_year.place(relwidth=0.33, relheight=1, relx=0.35)\n",
    "\n",
    "#BUTTON\n",
    "button = tk.Button(frame, text=\"Search\", font=(\"Helvetica\", 20, 'bold'), command = lambda: get_news(entry_country.get(), entry_year.get()), fg='#595959',bd = 0)\n",
    "button.place(relx=0.7, relheight=1, relwidth=0.3)\n",
    "\n",
    "#LOWER FRAME\n",
    "lower_frame = tk.Frame(root, bd=5, bg='#f2f2f2', relief='sunken')\n",
    "lower_frame.place(relx=0.5, rely=0.25, relwidth=0.9, relheight=0.6, anchor='n')\n",
    "\n",
    "#LABEL TEXT\n",
    "label = tk.Label(lower_frame, justify='left', bd=20, font=(\"Helvetica\", 17, \"bold\"), fg='#808080', bg='#f2f2f2', anchor='w', wraplength=800)\n",
    "label.place(relwidth=1, relheight=1)\n",
    "\n",
    "root.mainloop()"
   ]
  }
 ],
 "metadata": {
  "interpreter": {
   "hash": "aee8b7b246df8f9039afb4144a1f6fd8d2ca17a180786b69acc140d282b71a49"
  },
  "kernelspec": {
   "display_name": "Python 3",
   "language": "python",
   "name": "python3"
  },
  "language_info": {
   "codemirror_mode": {
    "name": "ipython",
    "version": 3
   },
   "file_extension": ".py",
   "mimetype": "text/x-python",
   "name": "python",
   "nbconvert_exporter": "python",
   "pygments_lexer": "ipython3",
   "version": "3.10.2"
  }
 },
 "nbformat": 4,
 "nbformat_minor": 4
}
