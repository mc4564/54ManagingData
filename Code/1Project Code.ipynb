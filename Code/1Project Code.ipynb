{
 "cells": [
  {
   "cell_type": "markdown",
   "metadata": {},
   "source": [
    "# 5400 PROJECT: Military Expenditure Search Engine"
   ]
  },
  {
   "cell_type": "markdown",
   "metadata": {},
   "source": [
    "## Part A: Back-end Data Warehouse"
   ]
  },
  {
   "cell_type": "markdown",
   "metadata": {},
   "source": [
    "#### A-1 Preparation"
   ]
  },
  {
   "cell_type": "code",
   "execution_count": 1,
   "metadata": {},
   "outputs": [],
   "source": [
    "import csv\n",
    "import pandas as pd\n",
    "import json\n",
    "import requests\n",
    "import os \n",
    "from pprint import pprint"
   ]
  },
  {
   "cell_type": "markdown",
   "metadata": {},
   "source": [
    "#### A-2: Connection to MongoDB"
   ]
  },
  {
   "cell_type": "code",
   "execution_count": 2,
   "metadata": {},
   "outputs": [],
   "source": [
    "from pymongo import MongoClient\n",
    "client = MongoClient('localhost',27017)\n",
    "db = client.apan5400"
   ]
  },
  {
   "cell_type": "code",
   "execution_count": 3,
   "metadata": {},
   "outputs": [],
   "source": [
    "db.military_expenditure_share_gdp.drop()\n",
    "db.military_expenditure_total.drop()\n",
    "db.military_spending_per_capita.drop()\n",
    "db.armed_forces_personnel.drop()\n",
    "db.armed_forces_personnel_percent.drop()\n",
    "db.armed_forces_personnel_of_total_labor_force.drop()"
   ]
  },
  {
   "cell_type": "markdown",
   "metadata": {},
   "source": [
    "#### A-3: Import data from csv file to mongoDB"
   ]
  },
  {
   "cell_type": "markdown",
   "metadata": {},
   "source": [
    "make sure path is correct when importing the data"
   ]
  },
  {
   "cell_type": "code",
   "execution_count": 4,
   "metadata": {},
   "outputs": [
    {
     "name": "stdout",
     "output_type": "stream",
     "text": [
      "Done!\n"
     ]
    }
   ],
   "source": [
    "\n",
    "def mongoimport(csv_path, coll_name):\n",
    "    client = MongoClient('localhost',27017)\n",
    "    db = client.apan5400\n",
    "    collection = db[coll_name]\n",
    "    data = pd.read_csv(csv_path)\n",
    "    gdp = json.loads(data.to_json(orient='records'))\n",
    "    collection.remove\n",
    "    collection.insert_many(gdp)\n",
    "    return collection.count\n",
    "\n",
    "mongoimport('/Users/shayshay/Documents/5400FinalProejct/military-expenditure-share-gdp.csv', 'military_expenditure_share_gdp')\n",
    "mongoimport('/Users/shayshay/Documents/5400FinalProejct/military-expenditure-total.csv', 'military_expenditure_total')\n",
    "mongoimport('/Users/shayshay/Documents/5400FinalProejct/military-spending-per-capita.csv', 'military_spending_per_capita')\n",
    "mongoimport('/Users/shayshay/Documents/5400FinalProejct/armed-forces-personnel.csv', 'armed_forces_personnel')\n",
    "mongoimport('/Users/shayshay/Documents/5400FinalProejct/armed-forces-personnel-percent.csv', 'armed_forces_personnel_percent')\n",
    "mongoimport('/Users/shayshay/Documents/5400FinalProejct/armed-forces-personnel-of-total-labor-force.csv', 'armed_forces_personnel_of_total_labor_force')\n",
    "print(\"Done!\")"
   ]
  },
  {
   "cell_type": "code",
   "execution_count": 5,
   "metadata": {},
   "outputs": [
    {
     "name": "stdout",
     "output_type": "stream",
     "text": [
      "7684\n",
      "8278\n",
      "4798\n",
      "6444\n",
      "5078\n",
      "6029\n"
     ]
    }
   ],
   "source": [
    "coll_expshare = db.military_expenditure_share_gdp\n",
    "coll_exptotal = db.military_expenditure_total\n",
    "coll_exppercap = db.military_spending_per_capita\n",
    "coll_armperson = db.armed_forces_personnel\n",
    "coll_armpersent = db.armed_forces_personnel_percent\n",
    "coll_armoflabor = db.armed_forces_personnel_of_total_labor_force\n",
    "\n",
    "total_docs1 = coll_expshare.count_documents({})\n",
    "total_docs2 = coll_exptotal.count_documents({})\n",
    "total_docs3 = coll_exppercap.count_documents({})\n",
    "total_docs4 = coll_armperson.count_documents({})\n",
    "total_docs5 = coll_armpersent.count_documents({})\n",
    "total_docs6 = coll_armoflabor.count_documents({})\n",
    "\n",
    "#count on documents\n",
    "print(total_docs1)\n",
    "print(total_docs2)\n",
    "print(total_docs3)\n",
    "print(total_docs4)\n",
    "print(total_docs5)\n",
    "print(total_docs6)"
   ]
  },
  {
   "cell_type": "markdown",
   "metadata": {},
   "source": [
    "## Part B: Data ETL Process Pipeline (Query Pipelines)"
   ]
  },
  {
   "cell_type": "markdown",
   "metadata": {},
   "source": [
    "#### B-1: Share of GDP"
   ]
  },
  {
   "cell_type": "code",
   "execution_count": 6,
   "metadata": {},
   "outputs": [
    {
     "data": {
      "text/plain": [
       "[{'_id': {'GDP Share of Military Expenditure': 1.63}}]"
      ]
     },
     "execution_count": 6,
     "metadata": {},
     "output_type": "execute_result"
    }
   ],
   "source": [
    "country_input = \"Afghanistan\"\n",
    "year_input = 1970\n",
    "pipeline1 = [\n",
    " {\n",
    "     \"$match\":{\n",
    "         \"$and\":[\n",
    "             {\"Entity\": {\"$regex\": country_input, \"$options\": \"i\"}},\n",
    "             {\"Year\": year_input}\n",
    "             ]}},\n",
    "{\"$group\": {\"_id\":{\n",
    " \"GDP Share of Military Expenditure\" : \"$military_expenditure_share_gdp\"\n",
    "}\n",
    " }}]\n",
    "\n",
    "list(db.military_expenditure_share_gdp.aggregate(pipeline1))"
   ]
  },
  {
   "cell_type": "markdown",
   "metadata": {},
   "source": [
    "#### B-2: Total Military Expenditure"
   ]
  },
  {
   "cell_type": "code",
   "execution_count": 7,
   "metadata": {},
   "outputs": [
    {
     "data": {
      "text/plain": [
       "[{'_id': {'Total Military Expenditure': 5373185}}]"
      ]
     },
     "execution_count": 7,
     "metadata": {},
     "output_type": "execute_result"
    }
   ],
   "source": [
    "pipeline2 = [\n",
    " {\n",
    "     \"$match\":{\n",
    "         \"$and\":[\n",
    "             {\"Entity\": {\"$regex\": country_input,\"$options\": \"i\"}},\n",
    "             {\"Year\": year_input}\n",
    "             ]}},\n",
    "{\"$group\": {\"_id\":{\n",
    " \"Total Military Expenditure\" : \"$military_expenditure\"\n",
    "}\n",
    " }}]\n",
    "list(db.military_expenditure_total.aggregate(pipeline2))"
   ]
  },
  {
   "cell_type": "markdown",
   "metadata": {},
   "source": [
    "#### B-3: Military Spending Per Capita"
   ]
  },
  {
   "cell_type": "code",
   "execution_count": 8,
   "metadata": {},
   "outputs": [
    {
     "data": {
      "text/plain": [
       "[{'_id': {'Military Spending per Capita': 5.06}}]"
      ]
     },
     "execution_count": 8,
     "metadata": {},
     "output_type": "execute_result"
    }
   ],
   "source": [
    "year_input = 2004\n",
    "country_input = \"Afghanistan\"\n",
    "pipeline3 = [\n",
    " {\n",
    "     \"$match\":{\n",
    "         \"$and\":[\n",
    "             {\"Entity\": {\"$regex\": country_input,\"$options\": \"i\"}},\n",
    "             {\"Year\": year_input}\n",
    "             ]}},\n",
    "{\"$group\": {\"_id\":{\n",
    " \"Military Spending per Capita\" : \"$military_expenditure_per_capita\"\n",
    "}\n",
    " }}]\n",
    "list(db.military_spending_per_capita.aggregate(pipeline3))"
   ]
  },
  {
   "cell_type": "markdown",
   "metadata": {},
   "source": [
    "#### B-4: Armed Forces Personnel"
   ]
  },
  {
   "cell_type": "code",
   "execution_count": 9,
   "metadata": {},
   "outputs": [
    {
     "data": {
      "text/plain": [
       "[{'_id': {'Armed Forces Personnel': 27000}}]"
      ]
     },
     "execution_count": 9,
     "metadata": {},
     "output_type": "execute_result"
    }
   ],
   "source": [
    "pipeline4 = [\n",
    " {\n",
    "     \"$match\":{\n",
    "         \"$and\":[\n",
    "             {\"Entity\": {\"$regex\": country_input,\"$options\": \"i\"}},\n",
    "             {\"Year\": year_input}\n",
    "             ]}},\n",
    "{\"$group\": {\"_id\":{\n",
    " \"Armed Forces Personnel\" : \"$Armed forces personnel_total\"\n",
    "}\n",
    " }}]\n",
    "list(db.armed_forces_personnel.aggregate(pipeline4))"
   ]
  },
  {
   "cell_type": "markdown",
   "metadata": {},
   "source": [
    "#### B-5: Armed Forces Personnel Percent"
   ]
  },
  {
   "cell_type": "code",
   "execution_count": 10,
   "metadata": {},
   "outputs": [
    {
     "data": {
      "text/plain": [
       "[{'_id': {'Armed Forces Share Population': 0.1091937542}}]"
      ]
     },
     "execution_count": 10,
     "metadata": {},
     "output_type": "execute_result"
    }
   ],
   "source": [
    "pipeline5 = [\n",
    " {\n",
    "     \"$match\":{\n",
    "         \"$and\":[\n",
    "             {\"Entity\": {\"$regex\": country_input,\"$options\": \"i\"}},\n",
    "             {\"Year\": year_input}\n",
    "             ]}},\n",
    "{\"$group\": {\"_id\":{\n",
    " \"Armed Forces Share Population\" : \"$armed_forces_share_population\"\n",
    "}\n",
    " }}]\n",
    "list(db.armed_forces_personnel_percent.aggregate(pipeline5))"
   ]
  },
  {
   "cell_type": "markdown",
   "metadata": {},
   "source": [
    "#### B-6: Armed Forces Personnel of Total Labor Force"
   ]
  },
  {
   "cell_type": "code",
   "execution_count": 11,
   "metadata": {},
   "outputs": [
    {
     "data": {
      "text/plain": [
       "[{'_id': {'Armed Forces Personnel of Total Labor Force': 0.435599375}}]"
      ]
     },
     "execution_count": 11,
     "metadata": {},
     "output_type": "execute_result"
    }
   ],
   "source": [
    "pipeline6 = [\n",
    " {\n",
    "     \"$match\":{\n",
    "         \"$and\":[\n",
    "             {\"Entity\": {\"$regex\": country_input,\"$options\": \"i\"}},\n",
    "             {\"Year\": year_input}\n",
    "             ]}},\n",
    "{\"$group\": {\"_id\":{\n",
    " \"Armed Forces Personnel of Total Labor Force\" : \"$Armed_forces_personnel_of total labor force\"\n",
    "}\n",
    " }}]\n",
    "list(db.armed_forces_personnel_of_total_labor_force.aggregate(pipeline6))"
   ]
  },
  {
   "cell_type": "markdown",
   "metadata": {},
   "source": [
    "## Part C: Create Flask-API and connecting with MongoDB"
   ]
  },
  {
   "cell_type": "markdown",
   "metadata": {},
   "source": [
    "Connecting with query pipelines:"
   ]
  },
  {
   "cell_type": "code",
   "execution_count": 12,
   "metadata": {},
   "outputs": [
    {
     "name": "stdout",
     "output_type": "stream",
     "text": [
      "Done!\n",
      " * Serving Flask app '__main__' (lazy loading)\n",
      " * Environment: production\n",
      "\u001b[31m   WARNING: This is a development server. Do not use it in a production deployment.\u001b[0m\n",
      "\u001b[2m   Use a production WSGI server instead.\u001b[0m\n",
      " * Debug mode: off\n"
     ]
    },
    {
     "name": "stderr",
     "output_type": "stream",
     "text": [
      " * Running on http://localhost:5001 (Press CTRL+C to quit)\n",
      "127.0.0.1 - - [02/May/2022 16:58:32] \"GET / HTTP/1.1\" 200 -\n",
      "127.0.0.1 - - [02/May/2022 16:58:36] \"GET /square/china_2004 HTTP/1.1\" 200 -\n",
      "127.0.0.1 - - [02/May/2022 16:58:55] \"GET /square/china_1998 HTTP/1.1\" 200 -\n",
      "127.0.0.1 - - [02/May/2022 16:59:02] \"GET /square/japan_2008 HTTP/1.1\" 200 -\n",
      "127.0.0.1 - - [02/May/2022 16:59:10] \"GET /square/italy_2010 HTTP/1.1\" 200 -\n"
     ]
    }
   ],
   "source": [
    "from flask import Flask, jsonify, request\n",
    "from flask_restful import Resource, Api\n",
    "app = Flask(__name__)\n",
    "api = Api(app)\n",
    "\n",
    "\n",
    "class Hello(Resource):\n",
    "    def get(self):\n",
    "        return jsonify({'message': 'Hello, World!'})\n",
    "\n",
    "class Test(Resource):\n",
    "    def get(self,country_year):\n",
    "        country_input = country_year.split('_')[0]\n",
    "        year_input = int(country_year.split('_')[1])\n",
    "        res_all = []\n",
    "\n",
    "        pipeline1 = [\n",
    "            {\n",
    "                \"$match\":{\n",
    "                    \"$and\":[\n",
    "                        {\"Entity\": {\"$regex\": country_input, \"$options\": \"i\"}},\n",
    "                        {\"Year\": year_input}]}},\n",
    "                {\"$group\": {\"_id\":{\n",
    "                    \"GDP Share of Military Expenditure\" : \"$military_expenditure_share_gdp\"}}}]\n",
    "        response1=list(db.military_expenditure_share_gdp.aggregate(pipeline1))[0]['_id']\n",
    "        res_all.append(response1)\n",
    "\n",
    "        pipeline2 = [\n",
    "            {\n",
    "                \"$match\":{\n",
    "                    \"$and\":[\n",
    "                        {\"Entity\": {\"$regex\": country_input, \"$options\": \"i\"}},\n",
    "                        {\"Year\": year_input}]}},\n",
    "                {\"$group\": {\"_id\":{\n",
    "                    \"Total Military Expenditure\" : \"$military_expenditure\"}}}]\n",
    "        response2=list(db.military_expenditure_total.aggregate(pipeline2))[0]['_id']\n",
    "        res_all.append(response2)\n",
    "\n",
    "        pipeline3 = [\n",
    "            {\n",
    "                \"$match\":{\n",
    "                    \"$and\":[\n",
    "                        {\"Entity\": {\"$regex\": country_input, \"$options\": \"i\"}},\n",
    "                        {\"Year\": year_input}]}},\n",
    "                {\"$group\": {\"_id\":{\n",
    "                    \"Military Spending per Capita\" : \"$military_expenditure_per_capita\"}}}]\n",
    "        response3=list(db.military_spending_per_capita.aggregate(pipeline3))[0]['_id']\n",
    "        res_all.append(response3)\n",
    "\n",
    "        pipeline4 = [\n",
    "            {\n",
    "                \"$match\":{\n",
    "                    \"$and\":[\n",
    "                        {\"Entity\": {\"$regex\": country_input, \"$options\": \"i\"}},\n",
    "                        {\"Year\": year_input}]}},\n",
    "                {\"$group\": {\"_id\":{\n",
    "                    \"Armed Forces Personnel\" : \"$Armed forces personnel_total\"}}}]\n",
    "        response4=list(db.armed_forces_personnel.aggregate(pipeline4))[0]['_id']\n",
    "        res_all.append(response4)\n",
    "\n",
    "        pipeline5 = [\n",
    "            {\n",
    "                \"$match\":{\n",
    "                    \"$and\":[\n",
    "                        {\"Entity\": {\"$regex\": country_input, \"$options\": \"i\"}},\n",
    "                        {\"Year\": year_input}]}},\n",
    "                {\"$group\": {\"_id\":{\n",
    "                    \"Armed Forces Share Population\" : \"$armed_forces_share_population\"}}}]\n",
    "        response5=list(db.armed_forces_personnel_percent.aggregate(pipeline5))[0]['_id']\n",
    "        res_all.append(response5)\n",
    "\n",
    "        pipeline6 = [\n",
    "            {\n",
    "                \"$match\":{\n",
    "                    \"$and\":[\n",
    "                        {\"Entity\": {\"$regex\": country_input, \"$options\": \"i\"}},\n",
    "                        {\"Year\": year_input}]}},\n",
    "                {\"$group\": {\"_id\":{\n",
    "                    \"Armed Forces Personnel of Total Labor Force\" : \"$Armed_forces_personnel_of total labor force\"}}}]\n",
    "        response6=list(db.armed_forces_personnel_of_total_labor_force.aggregate(pipeline6))[0]['_id']\n",
    "        res_all.append(response6)\n",
    "\n",
    "\n",
    "        return jsonify(res_all)\n",
    "print(\"Done!\")\n",
    "\n",
    "#Defined resources along with their corresponding urls\n",
    "api.add_resource(Hello, '/')\n",
    "api.add_resource(Test, '/square/<string:country_year>')\n",
    "\n",
    "# driver function\n",
    "app.run(host='localhost', port=5001)"
   ]
  },
  {
   "cell_type": "markdown",
   "metadata": {},
   "source": [
    "Open on the http, there will appear: {\"message\":\"Hello, World!\"}"
   ]
  },
  {
   "cell_type": "markdown",
   "metadata": {},
   "source": [
    "If change the url to http://localhost:5001/square/japan_2010\n",
    "\n",
    "Then, Japan's military data will appear as a list containing dictionary objects:\n",
    "\n",
    "[{\"GDP Share of Military Expenditure\":0.96},{\"Total Military Expenditure\":46420031665},{\"Military Spending per Capita\":425.19},{\"Armed Forces Personnel\":260382},{\"Armed Forces Share Population\":0.2025651484},{\"Armed Forces Personnel of Total Labor Force\":0.390561135}]"
   ]
  },
  {
   "cell_type": "markdown",
   "metadata": {},
   "source": [
    "## PART D: Graphical User Interface  (GUI)"
   ]
  },
  {
   "cell_type": "markdown",
   "metadata": {},
   "source": [
    "- use tkinter package to create GUI.\n",
    "- flask-api is required to run, before running GUI. Please don't close connection."
   ]
  },
  {
   "cell_type": "markdown",
   "metadata": {},
   "source": [
    "### The GUI code is on a separate file. Please open the notebook called 2GUI.ipynb"
   ]
  }
 ],
 "metadata": {
  "interpreter": {
   "hash": "aee8b7b246df8f9039afb4144a1f6fd8d2ca17a180786b69acc140d282b71a49"
  },
  "kernelspec": {
   "display_name": "Python 3",
   "language": "python",
   "name": "python3"
  },
  "language_info": {
   "codemirror_mode": {
    "name": "ipython",
    "version": 3
   },
   "file_extension": ".py",
   "mimetype": "text/x-python",
   "name": "python",
   "nbconvert_exporter": "python",
   "pygments_lexer": "ipython3",
   "version": "3.10.2"
  }
 },
 "nbformat": 4,
 "nbformat_minor": 4
}
